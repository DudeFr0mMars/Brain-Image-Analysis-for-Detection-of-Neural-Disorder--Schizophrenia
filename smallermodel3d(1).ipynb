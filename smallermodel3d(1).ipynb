{
 "cells": [
  {
   "cell_type": "code",
   "execution_count": 1,
   "id": "7c7519b9",
   "metadata": {
    "execution": {
     "iopub.execute_input": "2023-02-10T07:45:53.791476Z",
     "iopub.status.busy": "2023-02-10T07:45:53.790954Z",
     "iopub.status.idle": "2023-02-10T07:51:26.284262Z",
     "shell.execute_reply": "2023-02-10T07:51:26.283072Z"
    },
    "papermill": {
     "duration": 332.512874,
     "end_time": "2023-02-10T07:51:26.298041",
     "exception": false,
     "start_time": "2023-02-10T07:45:53.785167",
     "status": "completed"
    },
    "tags": []
   },
   "outputs": [
    {
     "name": "stderr",
     "output_type": "stream",
     "text": [
      "pixdim[0] (qfac) should be 1 (default) or -1; setting qfac to 1\n",
      "pixdim[0] (qfac) should be 1 (default) or -1; setting qfac to 1\n",
      "pixdim[0] (qfac) should be 1 (default) or -1; setting qfac to 1\n",
      "pixdim[0] (qfac) should be 1 (default) or -1; setting qfac to 1\n",
      "pixdim[0] (qfac) should be 1 (default) or -1; setting qfac to 1\n",
      "pixdim[0] (qfac) should be 1 (default) or -1; setting qfac to 1\n",
      "pixdim[0] (qfac) should be 1 (default) or -1; setting qfac to 1\n",
      "pixdim[0] (qfac) should be 1 (default) or -1; setting qfac to 1\n",
      "pixdim[0] (qfac) should be 1 (default) or -1; setting qfac to 1\n",
      "pixdim[0] (qfac) should be 1 (default) or -1; setting qfac to 1\n",
      "pixdim[0] (qfac) should be 1 (default) or -1; setting qfac to 1\n",
      "pixdim[0] (qfac) should be 1 (default) or -1; setting qfac to 1\n",
      "pixdim[0] (qfac) should be 1 (default) or -1; setting qfac to 1\n",
      "pixdim[0] (qfac) should be 1 (default) or -1; setting qfac to 1\n",
      "pixdim[0] (qfac) should be 1 (default) or -1; setting qfac to 1\n",
      "pixdim[0] (qfac) should be 1 (default) or -1; setting qfac to 1\n",
      "pixdim[0] (qfac) should be 1 (default) or -1; setting qfac to 1\n",
      "pixdim[0] (qfac) should be 1 (default) or -1; setting qfac to 1\n",
      "pixdim[0] (qfac) should be 1 (default) or -1; setting qfac to 1\n",
      "pixdim[0] (qfac) should be 1 (default) or -1; setting qfac to 1\n",
      "pixdim[0] (qfac) should be 1 (default) or -1; setting qfac to 1\n",
      "pixdim[0] (qfac) should be 1 (default) or -1; setting qfac to 1\n",
      "pixdim[0] (qfac) should be 1 (default) or -1; setting qfac to 1\n",
      "pixdim[0] (qfac) should be 1 (default) or -1; setting qfac to 1\n",
      "pixdim[0] (qfac) should be 1 (default) or -1; setting qfac to 1\n",
      "pixdim[0] (qfac) should be 1 (default) or -1; setting qfac to 1\n",
      "pixdim[0] (qfac) should be 1 (default) or -1; setting qfac to 1\n",
      "pixdim[0] (qfac) should be 1 (default) or -1; setting qfac to 1\n",
      "pixdim[0] (qfac) should be 1 (default) or -1; setting qfac to 1\n",
      "pixdim[0] (qfac) should be 1 (default) or -1; setting qfac to 1\n",
      "pixdim[0] (qfac) should be 1 (default) or -1; setting qfac to 1\n",
      "pixdim[0] (qfac) should be 1 (default) or -1; setting qfac to 1\n",
      "pixdim[0] (qfac) should be 1 (default) or -1; setting qfac to 1\n",
      "pixdim[0] (qfac) should be 1 (default) or -1; setting qfac to 1\n",
      "pixdim[0] (qfac) should be 1 (default) or -1; setting qfac to 1\n",
      "pixdim[0] (qfac) should be 1 (default) or -1; setting qfac to 1\n",
      "pixdim[0] (qfac) should be 1 (default) or -1; setting qfac to 1\n",
      "pixdim[0] (qfac) should be 1 (default) or -1; setting qfac to 1\n",
      "pixdim[0] (qfac) should be 1 (default) or -1; setting qfac to 1\n",
      "pixdim[0] (qfac) should be 1 (default) or -1; setting qfac to 1\n",
      "pixdim[0] (qfac) should be 1 (default) or -1; setting qfac to 1\n",
      "pixdim[0] (qfac) should be 1 (default) or -1; setting qfac to 1\n",
      "pixdim[0] (qfac) should be 1 (default) or -1; setting qfac to 1\n",
      "pixdim[0] (qfac) should be 1 (default) or -1; setting qfac to 1\n",
      "pixdim[0] (qfac) should be 1 (default) or -1; setting qfac to 1\n",
      "pixdim[0] (qfac) should be 1 (default) or -1; setting qfac to 1\n",
      "pixdim[0] (qfac) should be 1 (default) or -1; setting qfac to 1\n",
      "pixdim[0] (qfac) should be 1 (default) or -1; setting qfac to 1\n",
      "pixdim[0] (qfac) should be 1 (default) or -1; setting qfac to 1\n",
      "pixdim[0] (qfac) should be 1 (default) or -1; setting qfac to 1\n",
      "pixdim[0] (qfac) should be 1 (default) or -1; setting qfac to 1\n",
      "pixdim[0] (qfac) should be 1 (default) or -1; setting qfac to 1\n",
      "pixdim[0] (qfac) should be 1 (default) or -1; setting qfac to 1\n",
      "pixdim[0] (qfac) should be 1 (default) or -1; setting qfac to 1\n",
      "pixdim[0] (qfac) should be 1 (default) or -1; setting qfac to 1\n",
      "pixdim[0] (qfac) should be 1 (default) or -1; setting qfac to 1\n",
      "pixdim[0] (qfac) should be 1 (default) or -1; setting qfac to 1\n",
      "pixdim[0] (qfac) should be 1 (default) or -1; setting qfac to 1\n",
      "pixdim[0] (qfac) should be 1 (default) or -1; setting qfac to 1\n",
      "pixdim[0] (qfac) should be 1 (default) or -1; setting qfac to 1\n",
      "pixdim[0] (qfac) should be 1 (default) or -1; setting qfac to 1\n",
      "pixdim[0] (qfac) should be 1 (default) or -1; setting qfac to 1\n",
      "pixdim[0] (qfac) should be 1 (default) or -1; setting qfac to 1\n",
      "pixdim[0] (qfac) should be 1 (default) or -1; setting qfac to 1\n",
      "pixdim[0] (qfac) should be 1 (default) or -1; setting qfac to 1\n",
      "pixdim[0] (qfac) should be 1 (default) or -1; setting qfac to 1\n",
      "pixdim[0] (qfac) should be 1 (default) or -1; setting qfac to 1\n",
      "pixdim[0] (qfac) should be 1 (default) or -1; setting qfac to 1\n",
      "pixdim[0] (qfac) should be 1 (default) or -1; setting qfac to 1\n",
      "pixdim[0] (qfac) should be 1 (default) or -1; setting qfac to 1\n",
      "pixdim[0] (qfac) should be 1 (default) or -1; setting qfac to 1\n",
      "pixdim[0] (qfac) should be 1 (default) or -1; setting qfac to 1\n",
      "pixdim[0] (qfac) should be 1 (default) or -1; setting qfac to 1\n",
      "pixdim[0] (qfac) should be 1 (default) or -1; setting qfac to 1\n",
      "pixdim[0] (qfac) should be 1 (default) or -1; setting qfac to 1\n",
      "pixdim[0] (qfac) should be 1 (default) or -1; setting qfac to 1\n",
      "pixdim[0] (qfac) should be 1 (default) or -1; setting qfac to 1\n",
      "pixdim[0] (qfac) should be 1 (default) or -1; setting qfac to 1\n",
      "pixdim[0] (qfac) should be 1 (default) or -1; setting qfac to 1\n",
      "pixdim[0] (qfac) should be 1 (default) or -1; setting qfac to 1\n",
      "pixdim[0] (qfac) should be 1 (default) or -1; setting qfac to 1\n",
      "pixdim[0] (qfac) should be 1 (default) or -1; setting qfac to 1\n",
      "pixdim[0] (qfac) should be 1 (default) or -1; setting qfac to 1\n",
      "pixdim[0] (qfac) should be 1 (default) or -1; setting qfac to 1\n",
      "pixdim[0] (qfac) should be 1 (default) or -1; setting qfac to 1\n",
      "pixdim[0] (qfac) should be 1 (default) or -1; setting qfac to 1\n",
      "pixdim[0] (qfac) should be 1 (default) or -1; setting qfac to 1\n",
      "pixdim[0] (qfac) should be 1 (default) or -1; setting qfac to 1\n",
      "pixdim[0] (qfac) should be 1 (default) or -1; setting qfac to 1\n",
      "pixdim[0] (qfac) should be 1 (default) or -1; setting qfac to 1\n",
      "pixdim[0] (qfac) should be 1 (default) or -1; setting qfac to 1\n",
      "pixdim[0] (qfac) should be 1 (default) or -1; setting qfac to 1\n",
      "pixdim[0] (qfac) should be 1 (default) or -1; setting qfac to 1\n",
      "pixdim[0] (qfac) should be 1 (default) or -1; setting qfac to 1\n",
      "pixdim[0] (qfac) should be 1 (default) or -1; setting qfac to 1\n",
      "pixdim[0] (qfac) should be 1 (default) or -1; setting qfac to 1\n",
      "pixdim[0] (qfac) should be 1 (default) or -1; setting qfac to 1\n",
      "pixdim[0] (qfac) should be 1 (default) or -1; setting qfac to 1\n",
      "pixdim[0] (qfac) should be 1 (default) or -1; setting qfac to 1\n",
      "pixdim[0] (qfac) should be 1 (default) or -1; setting qfac to 1\n",
      "pixdim[0] (qfac) should be 1 (default) or -1; setting qfac to 1\n",
      "pixdim[0] (qfac) should be 1 (default) or -1; setting qfac to 1\n",
      "pixdim[0] (qfac) should be 1 (default) or -1; setting qfac to 1\n",
      "pixdim[0] (qfac) should be 1 (default) or -1; setting qfac to 1\n",
      "pixdim[0] (qfac) should be 1 (default) or -1; setting qfac to 1\n",
      "pixdim[0] (qfac) should be 1 (default) or -1; setting qfac to 1\n",
      "pixdim[0] (qfac) should be 1 (default) or -1; setting qfac to 1\n",
      "pixdim[0] (qfac) should be 1 (default) or -1; setting qfac to 1\n",
      "pixdim[0] (qfac) should be 1 (default) or -1; setting qfac to 1\n",
      "pixdim[0] (qfac) should be 1 (default) or -1; setting qfac to 1\n",
      "pixdim[0] (qfac) should be 1 (default) or -1; setting qfac to 1\n",
      "pixdim[0] (qfac) should be 1 (default) or -1; setting qfac to 1\n",
      "pixdim[0] (qfac) should be 1 (default) or -1; setting qfac to 1\n",
      "pixdim[0] (qfac) should be 1 (default) or -1; setting qfac to 1\n",
      "pixdim[0] (qfac) should be 1 (default) or -1; setting qfac to 1\n",
      "pixdim[0] (qfac) should be 1 (default) or -1; setting qfac to 1\n",
      "pixdim[0] (qfac) should be 1 (default) or -1; setting qfac to 1\n",
      "pixdim[0] (qfac) should be 1 (default) or -1; setting qfac to 1\n",
      "pixdim[0] (qfac) should be 1 (default) or -1; setting qfac to 1\n",
      "pixdim[0] (qfac) should be 1 (default) or -1; setting qfac to 1\n",
      "pixdim[0] (qfac) should be 1 (default) or -1; setting qfac to 1\n",
      "pixdim[0] (qfac) should be 1 (default) or -1; setting qfac to 1\n",
      "pixdim[0] (qfac) should be 1 (default) or -1; setting qfac to 1\n",
      "pixdim[0] (qfac) should be 1 (default) or -1; setting qfac to 1\n",
      "pixdim[0] (qfac) should be 1 (default) or -1; setting qfac to 1\n",
      "pixdim[0] (qfac) should be 1 (default) or -1; setting qfac to 1\n",
      "pixdim[0] (qfac) should be 1 (default) or -1; setting qfac to 1\n",
      "pixdim[0] (qfac) should be 1 (default) or -1; setting qfac to 1\n",
      "pixdim[0] (qfac) should be 1 (default) or -1; setting qfac to 1\n",
      "pixdim[0] (qfac) should be 1 (default) or -1; setting qfac to 1\n",
      "pixdim[0] (qfac) should be 1 (default) or -1; setting qfac to 1\n",
      "pixdim[0] (qfac) should be 1 (default) or -1; setting qfac to 1\n",
      "pixdim[0] (qfac) should be 1 (default) or -1; setting qfac to 1\n",
      "pixdim[0] (qfac) should be 1 (default) or -1; setting qfac to 1\n",
      "pixdim[0] (qfac) should be 1 (default) or -1; setting qfac to 1\n",
      "pixdim[0] (qfac) should be 1 (default) or -1; setting qfac to 1\n",
      "pixdim[0] (qfac) should be 1 (default) or -1; setting qfac to 1\n",
      "pixdim[0] (qfac) should be 1 (default) or -1; setting qfac to 1\n",
      "pixdim[0] (qfac) should be 1 (default) or -1; setting qfac to 1\n",
      "pixdim[0] (qfac) should be 1 (default) or -1; setting qfac to 1\n",
      "pixdim[0] (qfac) should be 1 (default) or -1; setting qfac to 1\n",
      "pixdim[0] (qfac) should be 1 (default) or -1; setting qfac to 1\n",
      "pixdim[0] (qfac) should be 1 (default) or -1; setting qfac to 1\n",
      "pixdim[0] (qfac) should be 1 (default) or -1; setting qfac to 1\n",
      "pixdim[0] (qfac) should be 1 (default) or -1; setting qfac to 1\n",
      "pixdim[0] (qfac) should be 1 (default) or -1; setting qfac to 1\n"
     ]
    },
    {
     "name": "stdout",
     "output_type": "stream",
     "text": [
      "Labelling Images\n",
      "Labelling Complete\n",
      "======================================================\n"
     ]
    }
   ],
   "source": [
    "import pandas as pd\n",
    "import os\n",
    "import fnmatch\n",
    "import nibabel as nib\n",
    "import numpy as np\n",
    "from PIL import Image\n",
    "\n",
    "df = pd.read_csv('/kaggle/input/capstone/cobre_model_group.csv').iloc[:,0:2]\n",
    "for index, row in df.iterrows():\n",
    "    df.replace(row[\" \"],'fmri_'+row[\" \"].strip()+\"_session1_run1.nii\",inplace = True)\n",
    "df.to_csv('/kaggle/working/cobre_model_group_labelled.csv',index = False)\n",
    "\n",
    "def __makeJPG__(root_path,new_dr = '/kaggle/working/JPEGs'):\n",
    "  if not os.path.exists(new_dr):\n",
    "    os.mkdir(new_dr)\n",
    "  i=0\n",
    "  for filename in os.listdir(root_path):\n",
    "    if filename.endswith(('.nii')):\n",
    "      image = nib.load(os.path.join(root_path,filename))\n",
    "      image = image.get_fdata()[:,:,:,10:17]\n",
    "      m,n = image.shape[:2]\n",
    "      image = np.reshape(image,(m,n,-1))  \n",
    "      for i in range(image.shape[2]):\n",
    "        slice_2D = image[:,:,i]\n",
    "        slice_2D = slice_2D.astype(np.uint8)\n",
    "        slice_2D = np.repeat(slice_2D[...,np.newaxis],3,-1)\n",
    "        jpeg_image = Image.fromarray(slice_2D)\n",
    "        jpeg_image.save(f'{new_dr}/{filename}_Slice_{i}.jpg')\n",
    "    \n",
    "if __name__ == '__main__':\n",
    "    __makeJPG__(root_path='/kaggle/input/capstone')\n",
    "\n",
    "import pandas as pd\n",
    "df = pd.read_csv('/kaggle/working/cobre_model_group_labelled.csv').iloc[:,0:2]\n",
    "df.rename(columns = {' ':'Name'}, \n",
    "            inplace = True)\n",
    "new_df = pd.DataFrame(columns = ['Name', 'sz'])\n",
    "print('Labelling Images')\n",
    "for filename in os.listdir('/kaggle/working/JPEGs'):\n",
    "    name = filename.split('.')[0]+'.nii'\n",
    "    prediction = pd.to_numeric(df.loc[(df['Name'] == name ),'sz '])\n",
    "    new_df = new_df.append({'Name' : filename, 'sz' : prediction.to_numpy()[0]},\n",
    "        ignore_index = True) \n",
    "new_df.to_csv('/kaggle/working/cobre_model_group_labelled.csv',index = False)\n",
    "print('Labelling Complete')\n",
    "print(\"======================================================\")\n"
   ]
  },
  {
   "cell_type": "code",
   "execution_count": 2,
   "id": "c7d1ae6e",
   "metadata": {
    "execution": {
     "iopub.execute_input": "2023-02-10T07:51:26.322830Z",
     "iopub.status.busy": "2023-02-10T07:51:26.322486Z",
     "iopub.status.idle": "2023-02-10T07:51:26.385106Z",
     "shell.execute_reply": "2023-02-10T07:51:26.384157Z"
    },
    "papermill": {
     "duration": 0.077276,
     "end_time": "2023-02-10T07:51:26.387306",
     "exception": false,
     "start_time": "2023-02-10T07:51:26.310030",
     "status": "completed"
    },
    "tags": []
   },
   "outputs": [
    {
     "name": "stdout",
     "output_type": "stream",
     "text": [
      "\n",
      "File Count: 53144\n"
     ]
    }
   ],
   "source": [
    "import fnmatch\n",
    "dir_path = r'/kaggle/working/JPEGs'\n",
    "count = len(fnmatch.filter(os.listdir(dir_path), '*.*'))\n",
    "print('\\nFile Count:', count)"
   ]
  },
  {
   "cell_type": "code",
   "execution_count": 3,
   "id": "b46b36b9",
   "metadata": {
    "execution": {
     "iopub.execute_input": "2023-02-10T07:51:26.409397Z",
     "iopub.status.busy": "2023-02-10T07:51:26.407776Z",
     "iopub.status.idle": "2023-02-10T07:51:45.497904Z",
     "shell.execute_reply": "2023-02-10T07:51:45.496813Z"
    },
    "papermill": {
     "duration": 19.103376,
     "end_time": "2023-02-10T07:51:45.500472",
     "exception": false,
     "start_time": "2023-02-10T07:51:26.397096",
     "status": "completed"
    },
    "tags": []
   },
   "outputs": [],
   "source": [
    "import tensorflow as tf\n",
    "import numpy as np\n",
    "import os\n",
    "import cv2\n",
    "\n",
    "import tensorflow as tf\n",
    "from tensorflow import keras\n",
    "from tensorflow.keras import layers\n",
    "\n",
    "# Load the custom cats dataset\n",
    "img_dir = '/kaggle/working/JPEGs'\n",
    "img_paths = [os.path.join(img_dir, f) for f in os.listdir(img_dir) if f.endswith('.jpg')]\n",
    "x = np.zeros((len(img_paths), 53, 64, 3))\n",
    "y = np.zeros((len(img_paths), 1))\n",
    "\n",
    "for i, img_path in enumerate(img_paths):\n",
    "  img = cv2.imread(img_path)\n",
    "  x[i] = img\n",
    "  if 'szxxx' in img_path:\n",
    "    y[i] = 1\n",
    "\n",
    "# Preprocess the data\n",
    "x = x.astype('float32')\n",
    "\n",
    "# Convert the labels to one-hot encoding\n",
    "y = tf.keras.utils.to_categorical(y, 2)\n",
    "\n",
    "# Create a data generator for the training data\n",
    "def data_generator(x, y, batch_size):\n",
    "  while True:\n",
    "    for i in range(0, len(x), batch_size):\n",
    "      yield x[i:i + batch_size], y[i:i + batch_size]\n",
    "\n",
    "# Split the data into training and validation sets\n",
    "x_train, x_val = x[:int(0.7 * len(x))], x[int(0.7 * len(x)):]\n",
    "y_train, y_val = y[:int(0.7 * len(y))], y[int(0.7 * len(y)):]\n"
   ]
  },
  {
   "cell_type": "code",
   "execution_count": 4,
   "id": "d3874951",
   "metadata": {
    "execution": {
     "iopub.execute_input": "2023-02-10T07:51:45.522590Z",
     "iopub.status.busy": "2023-02-10T07:51:45.521979Z",
     "iopub.status.idle": "2023-02-10T08:07:16.537551Z",
     "shell.execute_reply": "2023-02-10T08:07:16.536586Z"
    },
    "papermill": {
     "duration": 931.029088,
     "end_time": "2023-02-10T08:07:16.539702",
     "exception": false,
     "start_time": "2023-02-10T07:51:45.510614",
     "status": "completed"
    },
    "tags": []
   },
   "outputs": [
    {
     "name": "stderr",
     "output_type": "stream",
     "text": [
      "2023-02-10 07:51:45.801841: I tensorflow/stream_executor/cuda/cuda_gpu_executor.cc:937] successful NUMA node read from SysFS had negative value (-1), but there must be at least one NUMA node, so returning NUMA node zero\n",
      "2023-02-10 07:51:45.932908: I tensorflow/stream_executor/cuda/cuda_gpu_executor.cc:937] successful NUMA node read from SysFS had negative value (-1), but there must be at least one NUMA node, so returning NUMA node zero\n",
      "2023-02-10 07:51:45.933777: I tensorflow/stream_executor/cuda/cuda_gpu_executor.cc:937] successful NUMA node read from SysFS had negative value (-1), but there must be at least one NUMA node, so returning NUMA node zero\n",
      "2023-02-10 07:51:45.936177: I tensorflow/core/platform/cpu_feature_guard.cc:142] This TensorFlow binary is optimized with oneAPI Deep Neural Network Library (oneDNN) to use the following CPU instructions in performance-critical operations:  AVX2 AVX512F FMA\n",
      "To enable them in other operations, rebuild TensorFlow with the appropriate compiler flags.\n",
      "2023-02-10 07:51:45.936524: I tensorflow/stream_executor/cuda/cuda_gpu_executor.cc:937] successful NUMA node read from SysFS had negative value (-1), but there must be at least one NUMA node, so returning NUMA node zero\n",
      "2023-02-10 07:51:45.937261: I tensorflow/stream_executor/cuda/cuda_gpu_executor.cc:937] successful NUMA node read from SysFS had negative value (-1), but there must be at least one NUMA node, so returning NUMA node zero\n",
      "2023-02-10 07:51:45.937940: I tensorflow/stream_executor/cuda/cuda_gpu_executor.cc:937] successful NUMA node read from SysFS had negative value (-1), but there must be at least one NUMA node, so returning NUMA node zero\n",
      "2023-02-10 07:51:48.353822: I tensorflow/stream_executor/cuda/cuda_gpu_executor.cc:937] successful NUMA node read from SysFS had negative value (-1), but there must be at least one NUMA node, so returning NUMA node zero\n",
      "2023-02-10 07:51:48.354653: I tensorflow/stream_executor/cuda/cuda_gpu_executor.cc:937] successful NUMA node read from SysFS had negative value (-1), but there must be at least one NUMA node, so returning NUMA node zero\n",
      "2023-02-10 07:51:48.355426: I tensorflow/stream_executor/cuda/cuda_gpu_executor.cc:937] successful NUMA node read from SysFS had negative value (-1), but there must be at least one NUMA node, so returning NUMA node zero\n",
      "2023-02-10 07:51:48.356057: I tensorflow/core/common_runtime/gpu/gpu_device.cc:1510] Created device /job:localhost/replica:0/task:0/device:GPU:0 with 15401 MB memory:  -> device: 0, name: Tesla P100-PCIE-16GB, pci bus id: 0000:00:04.0, compute capability: 6.0\n",
      "/opt/conda/lib/python3.7/site-packages/keras/engine/training.py:1972: UserWarning: `Model.fit_generator` is deprecated and will be removed in a future version. Please use `Model.fit`, which supports generators.\n",
      "  warnings.warn('`Model.fit_generator` is deprecated and '\n"
     ]
    },
    {
     "name": "stdout",
     "output_type": "stream",
     "text": [
      "Model: \"sequential\"\n",
      "_________________________________________________________________\n",
      "Layer (type)                 Output Shape              Param #   \n",
      "=================================================================\n",
      "conv2d (Conv2D)              (None, 51, 62, 64)        1792      \n",
      "_________________________________________________________________\n",
      "conv2d_1 (Conv2D)            (None, 49, 60, 64)        36928     \n",
      "_________________________________________________________________\n",
      "batch_normalization (BatchNo (None, 49, 60, 64)        256       \n",
      "_________________________________________________________________\n",
      "max_pooling2d (MaxPooling2D) (None, 24, 30, 64)        0         \n",
      "_________________________________________________________________\n",
      "conv2d_2 (Conv2D)            (None, 22, 28, 128)       73856     \n",
      "_________________________________________________________________\n",
      "batch_normalization_1 (Batch (None, 22, 28, 128)       512       \n",
      "_________________________________________________________________\n",
      "conv2d_3 (Conv2D)            (None, 20, 26, 128)       147584    \n",
      "_________________________________________________________________\n",
      "batch_normalization_2 (Batch (None, 20, 26, 128)       512       \n",
      "_________________________________________________________________\n",
      "max_pooling2d_1 (MaxPooling2 (None, 10, 13, 128)       0         \n",
      "_________________________________________________________________\n",
      "conv2d_4 (Conv2D)            (None, 8, 11, 256)        295168    \n",
      "_________________________________________________________________\n",
      "max_pooling2d_2 (MaxPooling2 (None, 4, 5, 256)         0         \n",
      "_________________________________________________________________\n",
      "conv2d_5 (Conv2D)            (None, 2, 3, 512)         1180160   \n",
      "_________________________________________________________________\n",
      "batch_normalization_3 (Batch (None, 2, 3, 512)         2048      \n",
      "_________________________________________________________________\n",
      "global_average_pooling2d (Gl (None, 512)               0         \n",
      "_________________________________________________________________\n",
      "flatten (Flatten)            (None, 512)               0         \n",
      "_________________________________________________________________\n",
      "dense (Dense)                (None, 4096)              2101248   \n",
      "_________________________________________________________________\n",
      "dropout (Dropout)            (None, 4096)              0         \n",
      "_________________________________________________________________\n",
      "dense_1 (Dense)              (None, 2)                 8194      \n",
      "=================================================================\n",
      "Total params: 3,848,258\n",
      "Trainable params: 3,846,594\n",
      "Non-trainable params: 1,664\n",
      "_________________________________________________________________\n",
      "Epoch 1/50\n"
     ]
    },
    {
     "name": "stderr",
     "output_type": "stream",
     "text": [
      "2023-02-10 07:51:48.931806: I tensorflow/compiler/mlir/mlir_graph_optimization_pass.cc:185] None of the MLIR Optimization Passes are enabled (registered 2)\n",
      "2023-02-10 07:51:50.617564: I tensorflow/stream_executor/cuda/cuda_dnn.cc:369] Loaded cuDNN version 8005\n"
     ]
    },
    {
     "name": "stdout",
     "output_type": "stream",
     "text": [
      "1162/1162 [==============================] - 26s 16ms/step - loss: 0.6650 - accuracy: 0.6055 - val_loss: 0.7001 - val_accuracy: 0.6517\n",
      "Epoch 2/50\n",
      "1162/1162 [==============================] - 21s 18ms/step - loss: 0.4298 - accuracy: 0.7933 - val_loss: 0.3668 - val_accuracy: 0.8404\n",
      "Epoch 3/50\n",
      "1162/1162 [==============================] - 18s 15ms/step - loss: 0.1743 - accuracy: 0.9283 - val_loss: 0.2338 - val_accuracy: 0.9090\n",
      "Epoch 4/50\n",
      "1162/1162 [==============================] - 18s 16ms/step - loss: 0.0809 - accuracy: 0.9691 - val_loss: 0.1023 - val_accuracy: 0.9635\n",
      "Epoch 5/50\n",
      "1162/1162 [==============================] - 18s 15ms/step - loss: 0.0570 - accuracy: 0.9779 - val_loss: 0.1649 - val_accuracy: 0.9443\n",
      "Epoch 6/50\n",
      "1162/1162 [==============================] - 18s 15ms/step - loss: 0.0436 - accuracy: 0.9841 - val_loss: 0.2809 - val_accuracy: 0.9133\n",
      "Epoch 7/50\n",
      "1162/1162 [==============================] - 18s 15ms/step - loss: 0.0351 - accuracy: 0.9869 - val_loss: 0.0490 - val_accuracy: 0.9811\n",
      "Epoch 8/50\n",
      "1162/1162 [==============================] - 18s 16ms/step - loss: 0.0339 - accuracy: 0.9877 - val_loss: 0.0530 - val_accuracy: 0.9809\n",
      "Epoch 9/50\n",
      "1162/1162 [==============================] - 18s 15ms/step - loss: 0.0300 - accuracy: 0.9889 - val_loss: 0.0582 - val_accuracy: 0.9792\n",
      "Epoch 10/50\n",
      "1162/1162 [==============================] - 18s 15ms/step - loss: 0.0345 - accuracy: 0.9878 - val_loss: 0.0509 - val_accuracy: 0.9829\n",
      "Epoch 11/50\n",
      "1162/1162 [==============================] - 18s 16ms/step - loss: 0.0223 - accuracy: 0.9921 - val_loss: 0.0905 - val_accuracy: 0.9720\n",
      "Epoch 12/50\n",
      "1162/1162 [==============================] - 18s 15ms/step - loss: 0.0245 - accuracy: 0.9910 - val_loss: 0.0401 - val_accuracy: 0.9857\n",
      "Epoch 13/50\n",
      "1162/1162 [==============================] - 18s 16ms/step - loss: 0.0236 - accuracy: 0.9920 - val_loss: 0.0207 - val_accuracy: 0.9923\n",
      "Epoch 14/50\n",
      "1162/1162 [==============================] - 18s 15ms/step - loss: 0.0196 - accuracy: 0.9927 - val_loss: 0.1122 - val_accuracy: 0.9669\n",
      "Epoch 15/50\n",
      "1162/1162 [==============================] - 18s 15ms/step - loss: 0.0186 - accuracy: 0.9932 - val_loss: 0.0402 - val_accuracy: 0.9849\n",
      "Epoch 16/50\n",
      "1162/1162 [==============================] - 18s 16ms/step - loss: 0.0178 - accuracy: 0.9938 - val_loss: 0.0475 - val_accuracy: 0.9827\n",
      "Epoch 17/50\n",
      "1162/1162 [==============================] - 18s 15ms/step - loss: 0.0197 - accuracy: 0.9926 - val_loss: 0.0631 - val_accuracy: 0.9819\n",
      "Epoch 18/50\n",
      "1162/1162 [==============================] - 18s 16ms/step - loss: 0.0178 - accuracy: 0.9935 - val_loss: 0.1396 - val_accuracy: 0.9603\n",
      "Epoch 19/50\n",
      "1162/1162 [==============================] - 18s 15ms/step - loss: 0.0172 - accuracy: 0.9938 - val_loss: 0.0239 - val_accuracy: 0.9911\n",
      "Epoch 20/50\n",
      "1162/1162 [==============================] - 18s 16ms/step - loss: 0.0153 - accuracy: 0.9946 - val_loss: 0.0592 - val_accuracy: 0.9819\n",
      "Epoch 21/50\n",
      "1162/1162 [==============================] - 18s 15ms/step - loss: 0.0127 - accuracy: 0.9958 - val_loss: 0.0505 - val_accuracy: 0.9856\n",
      "Epoch 22/50\n",
      "1162/1162 [==============================] - 18s 16ms/step - loss: 0.0153 - accuracy: 0.9947 - val_loss: 0.0248 - val_accuracy: 0.9916\n",
      "Epoch 23/50\n",
      "1162/1162 [==============================] - 20s 18ms/step - loss: 0.0176 - accuracy: 0.9943 - val_loss: 0.0762 - val_accuracy: 0.9780\n",
      "Epoch 24/50\n",
      "1162/1162 [==============================] - 18s 16ms/step - loss: 0.0149 - accuracy: 0.9952 - val_loss: 0.0185 - val_accuracy: 0.9937\n",
      "Epoch 25/50\n",
      "1162/1162 [==============================] - 18s 16ms/step - loss: 0.0108 - accuracy: 0.9962 - val_loss: 0.0414 - val_accuracy: 0.9890\n",
      "Epoch 26/50\n",
      "1162/1162 [==============================] - 18s 15ms/step - loss: 0.0144 - accuracy: 0.9947 - val_loss: 0.0354 - val_accuracy: 0.9909\n",
      "Epoch 27/50\n",
      "1162/1162 [==============================] - 18s 16ms/step - loss: 0.0132 - accuracy: 0.9953 - val_loss: 0.0410 - val_accuracy: 0.9869\n",
      "Epoch 28/50\n",
      "1162/1162 [==============================] - 18s 15ms/step - loss: 0.0133 - accuracy: 0.9956 - val_loss: 0.0183 - val_accuracy: 0.9937\n",
      "Epoch 29/50\n",
      "1162/1162 [==============================] - 18s 15ms/step - loss: 0.0092 - accuracy: 0.9967 - val_loss: 0.0439 - val_accuracy: 0.9854\n",
      "Epoch 30/50\n",
      "1162/1162 [==============================] - 18s 16ms/step - loss: 0.0138 - accuracy: 0.9950 - val_loss: 0.0324 - val_accuracy: 0.9897\n",
      "Epoch 31/50\n",
      "1162/1162 [==============================] - 18s 15ms/step - loss: 0.0088 - accuracy: 0.9969 - val_loss: 0.0103 - val_accuracy: 0.9966\n",
      "Epoch 32/50\n",
      "1162/1162 [==============================] - 18s 16ms/step - loss: 0.0136 - accuracy: 0.9955 - val_loss: 0.0286 - val_accuracy: 0.9912\n",
      "Epoch 33/50\n",
      "1162/1162 [==============================] - 18s 15ms/step - loss: 0.0108 - accuracy: 0.9961 - val_loss: 0.0078 - val_accuracy: 0.9971\n",
      "Epoch 34/50\n",
      "1162/1162 [==============================] - 18s 15ms/step - loss: 0.0097 - accuracy: 0.9966 - val_loss: 0.0221 - val_accuracy: 0.9941\n",
      "Epoch 35/50\n",
      "1162/1162 [==============================] - 18s 15ms/step - loss: 0.0108 - accuracy: 0.9962 - val_loss: 0.0254 - val_accuracy: 0.9922\n",
      "Epoch 36/50\n",
      "1162/1162 [==============================] - 18s 15ms/step - loss: 0.0095 - accuracy: 0.9965 - val_loss: 0.0611 - val_accuracy: 0.9856\n",
      "Epoch 37/50\n",
      "1162/1162 [==============================] - 18s 15ms/step - loss: 0.0101 - accuracy: 0.9967 - val_loss: 0.0273 - val_accuracy: 0.9927\n",
      "Epoch 38/50\n",
      "1162/1162 [==============================] - 18s 15ms/step - loss: 0.0097 - accuracy: 0.9968 - val_loss: 0.0340 - val_accuracy: 0.9890\n",
      "Epoch 39/50\n",
      "1162/1162 [==============================] - 18s 16ms/step - loss: 0.0083 - accuracy: 0.9974 - val_loss: 0.0183 - val_accuracy: 0.9944\n",
      "Epoch 40/50\n",
      "1162/1162 [==============================] - 18s 15ms/step - loss: 0.0074 - accuracy: 0.9974 - val_loss: 0.0299 - val_accuracy: 0.9907\n",
      "Epoch 41/50\n",
      "1162/1162 [==============================] - 18s 16ms/step - loss: 0.0122 - accuracy: 0.9962 - val_loss: 0.0423 - val_accuracy: 0.9943\n",
      "Epoch 42/50\n",
      "1162/1162 [==============================] - 18s 16ms/step - loss: 0.0092 - accuracy: 0.9976 - val_loss: 0.0106 - val_accuracy: 0.9972\n",
      "Epoch 43/50\n",
      "1162/1162 [==============================] - 18s 15ms/step - loss: 0.0068 - accuracy: 0.9979 - val_loss: 0.0304 - val_accuracy: 0.9919\n",
      "Epoch 44/50\n",
      "1162/1162 [==============================] - 18s 16ms/step - loss: 0.0086 - accuracy: 0.9971 - val_loss: 0.0905 - val_accuracy: 0.9844\n",
      "Epoch 45/50\n",
      "1162/1162 [==============================] - 18s 15ms/step - loss: 0.0087 - accuracy: 0.9977 - val_loss: 0.0136 - val_accuracy: 0.9960\n",
      "Epoch 46/50\n",
      "1162/1162 [==============================] - 18s 16ms/step - loss: 0.0058 - accuracy: 0.9981 - val_loss: 0.0127 - val_accuracy: 0.9970\n",
      "Epoch 47/50\n",
      "1162/1162 [==============================] - 18s 15ms/step - loss: 0.0076 - accuracy: 0.9976 - val_loss: 0.0427 - val_accuracy: 0.9904\n",
      "Epoch 48/50\n",
      "1162/1162 [==============================] - 18s 16ms/step - loss: 0.0038 - accuracy: 0.9989 - val_loss: 0.0091 - val_accuracy: 0.9975\n",
      "Epoch 49/50\n",
      "1162/1162 [==============================] - 18s 16ms/step - loss: 0.0080 - accuracy: 0.9979 - val_loss: 0.0377 - val_accuracy: 0.9907\n",
      "Epoch 50/50\n",
      "1162/1162 [==============================] - 18s 15ms/step - loss: 0.0092 - accuracy: 0.9971 - val_loss: 0.0149 - val_accuracy: 0.9948\n",
      "Evaluate the model on the validation set\n"
     ]
    },
    {
     "name": "stderr",
     "output_type": "stream",
     "text": [
      "2023-02-10 08:07:11.645841: W tensorflow/core/framework/cpu_allocator_impl.cc:80] Allocation of 648984576 exceeds 10% of free system memory.\n",
      "2023-02-10 08:07:12.374270: W tensorflow/core/framework/cpu_allocator_impl.cc:80] Allocation of 648984576 exceeds 10% of free system memory.\n"
     ]
    },
    {
     "name": "stdout",
     "output_type": "stream",
     "text": [
      "499/499 [==============================] - 4s 7ms/step - loss: 0.0149 - accuracy: 0.9948\n",
      "Validation loss: 0.014931958168745041\n",
      "Validation accuracy: 0.9947943091392517\n"
     ]
    }
   ],
   "source": [
    "\n",
    "# Build the CNN model\n",
    "\n",
    "model = tf.keras.models.Sequential([\n",
    "    tf.keras.layers.Conv2D(64, (3, 3), activation='relu', input_shape=(53, 64,3)),\n",
    "    tf.keras.layers.Conv2D(64, (3, 3), activation='relu'),\n",
    "    tf.keras.layers.BatchNormalization(),\n",
    "    tf.keras.layers.MaxPooling2D((2, 2)),\n",
    "    tf.keras.layers.Conv2D(128, (3, 3), activation='relu'),\n",
    "    tf.keras.layers.BatchNormalization(),\n",
    "    tf.keras.layers.Conv2D(128, (3, 3), activation='relu'),\n",
    "    tf.keras.layers.BatchNormalization(),\n",
    "    tf.keras.layers.MaxPooling2D((2, 2)),\n",
    "    tf.keras.layers.Conv2D(256, (3, 3), activation='relu'),\n",
    "    tf.keras.layers.MaxPooling2D((2, 2)),\n",
    "    tf.keras.layers.Conv2D(512, (3, 3), activation='relu'),\n",
    "    tf.keras.layers.BatchNormalization(),\n",
    "    tf.keras.layers.GlobalAveragePooling2D(),\n",
    "    tf.keras.layers.Flatten(),\n",
    "    tf.keras.layers.Dense(4096, activation='relu'),\n",
    "    tf.keras.layers.Dropout(0.3),\n",
    "    tf.keras.layers.Dense(2, activation='softmax')\n",
    "])\n",
    "\n",
    "# Compile the model\n",
    "model.compile(optimizer='adam', loss='categorical_crossentropy', metrics=['accuracy'])\n",
    "model.summary()\n",
    "\n",
    "# Train the model using the data generator\n",
    "batch_size = 32\n",
    "train_gen = data_generator(x_train, y_train, batch_size)\n",
    "val_gen = data_generator(x_val, y_val, batch_size)\n",
    "history = model.fit_generator(train_gen, epochs=50, steps_per_epoch=len(x_train) // batch_size, validation_data=val_gen, validation_steps=len(x_val) // batch_size)\n",
    "\n",
    "print('Evaluate the model on the validation set')\n",
    "loss, accuracy = model.evaluate(x_val, y_val, batch_size=batch_size)\n",
    "print('Validation loss:', loss)\n",
    "print('Validation accuracy:', accuracy)"
   ]
  },
  {
   "cell_type": "code",
   "execution_count": 5,
   "id": "e8c48d54",
   "metadata": {
    "execution": {
     "iopub.execute_input": "2023-02-10T08:07:18.293456Z",
     "iopub.status.busy": "2023-02-10T08:07:18.292718Z",
     "iopub.status.idle": "2023-02-10T08:07:18.533411Z",
     "shell.execute_reply": "2023-02-10T08:07:18.532442Z"
    },
    "papermill": {
     "duration": 1.162262,
     "end_time": "2023-02-10T08:07:18.535634",
     "exception": false,
     "start_time": "2023-02-10T08:07:17.373372",
     "status": "completed"
    },
    "tags": []
   },
   "outputs": [
    {
     "data": {
      "image/png": "[encoded data removed]",
      "text/plain": [
       "<Figure size 432x288 with 1 Axes>"
      ]
     },
     "metadata": {
      "needs_background": "light"
     },
     "output_type": "display_data"
    }
   ],
   "source": [
    "import matplotlib.pyplot as plt\n",
    "\n",
    "# Plot the training and validation accuracy over epochs\n",
    "plt.plot(history.history['accuracy'])\n",
    "plt.plot(history.history['val_accuracy'])\n",
    "plt.title('Model accuracy')\n",
    "plt.ylabel('Accuracy')\n",
    "plt.xlabel('Epoch')\n",
    "plt.legend(['Train', 'Validation'], loc='upper left')\n",
    "plt.show()\n"
   ]
  },
  {
   "cell_type": "code",
   "execution_count": 6,
   "id": "de225b4a",
   "metadata": {
    "execution": {
     "iopub.execute_input": "2023-02-10T08:07:20.162232Z",
     "iopub.status.busy": "2023-02-10T08:07:20.161866Z",
     "iopub.status.idle": "2023-02-10T08:07:20.369675Z",
     "shell.execute_reply": "2023-02-10T08:07:20.368666Z"
    },
    "papermill": {
     "duration": 1.05944,
     "end_time": "2023-02-10T08:07:20.371974",
     "exception": false,
     "start_time": "2023-02-10T08:07:19.312534",
     "status": "completed"
    },
    "tags": []
   },
   "outputs": [
    {
     "data": {
      "image/png": "[encoded data removed]",
      "text/plain": [
       "<Figure size 432x288 with 1 Axes>"
      ]
     },
     "metadata": {
      "needs_background": "light"
     },
     "output_type": "display_data"
    }
   ],
   "source": [
    "import matplotlib.pyplot as plt\n",
    "\n",
    "# Plot the training and validation accuracy over epochs\n",
    "plt.plot(history.history['loss'])\n",
    "plt.plot(history.history['val_loss'])\n",
    "plt.title('Losses')\n",
    "plt.ylabel('Loss')\n",
    "plt.xlabel('Epoch')\n",
    "plt.legend(['Loss', 'val_loss'], loc='upper left')\n",
    "plt.show()\n"
   ]
  },
  {
   "cell_type": "code",
   "execution_count": 7,
   "id": "4c4db44c",
   "metadata": {
    "execution": {
     "iopub.execute_input": "2023-02-10T08:07:22.141952Z",
     "iopub.status.busy": "2023-02-10T08:07:22.141504Z",
     "iopub.status.idle": "2023-02-10T08:07:22.738830Z",
     "shell.execute_reply": "2023-02-10T08:07:22.734811Z"
    },
    "papermill": {
     "duration": 1.587557,
     "end_time": "2023-02-10T08:07:22.741826",
     "exception": false,
     "start_time": "2023-02-10T08:07:21.154269",
     "status": "completed"
    },
    "tags": []
   },
   "outputs": [],
   "source": [
    "from sklearn.metrics import accuracy_score\n",
    "from sklearn.metrics import precision_score\n",
    "from sklearn.metrics import recall_score\n",
    "from sklearn.metrics import f1_score\n",
    "from sklearn.metrics import cohen_kappa_score\n",
    "from sklearn.metrics import roc_auc_score\n",
    "from sklearn.metrics import confusion_matrix\n",
    "\n"
   ]
  },
  {
   "cell_type": "code",
   "execution_count": null,
   "id": "4502f461",
   "metadata": {
    "papermill": {
     "duration": 0.819185,
     "end_time": "2023-02-10T08:07:24.337970",
     "exception": false,
     "start_time": "2023-02-10T08:07:23.518785",
     "status": "completed"
    },
    "tags": []
   },
   "outputs": [],
   "source": []
  },
  {
   "cell_type": "code",
   "execution_count": null,
   "id": "55802baf",
   "metadata": {
    "papermill": {
     "duration": 0.76929,
     "end_time": "2023-02-10T08:07:25.949356",
     "exception": false,
     "start_time": "2023-02-10T08:07:25.180066",
     "status": "completed"
    },
    "tags": []
   },
   "outputs": [],
   "source": []
  }
 ],
 "metadata": {
  "kernelspec": {
   "display_name": "Python 3",
   "language": "python",
   "name": "python3"
  },
  "language_info": {
   "codemirror_mode": {
    "name": "ipython",
    "version": 3
   },
   "file_extension": ".py",
   "mimetype": "text/x-python",
   "name": "python",
   "nbconvert_exporter": "python",
   "pygments_lexer": "ipython3",
   "version": "3.7.12"
  },
  "papermill": {
   "default_parameters": {},
   "duration": 1304.283654,
   "end_time": "2023-02-10T08:07:29.688852",
   "environment_variables": {},
   "exception": null,
   "input_path": "__notebook__.ipynb",
   "output_path": "__notebook__.ipynb",
   "parameters": {},
   "start_time": "2023-02-10T07:45:45.405198",
   "version": "2.3.4"
  }
 },
 "nbformat": 4,
 "nbformat_minor": 5
}
